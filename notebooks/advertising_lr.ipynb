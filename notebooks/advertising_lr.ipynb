{
 "cells": [
  {
   "cell_type": "code",
   "execution_count": 2,
   "id": "0e8229f6",
   "metadata": {},
   "outputs": [],
   "source": [
    "import numpy as np\n",
    "import pandas as pd\n",
    "import matplotlib.pyplot as plt\n"
   ]
  },
  {
   "cell_type": "code",
   "execution_count": 3,
   "id": "f1de033f",
   "metadata": {},
   "outputs": [],
   "source": [
    "df =pd.read_csv('../datasets/advertising.csv')"
   ]
  },
  {
   "cell_type": "code",
   "execution_count": 4,
   "id": "7b13e294",
   "metadata": {},
   "outputs": [
    {
     "data": {
      "text/html": [
       "<div>\n",
       "<style scoped>\n",
       "    .dataframe tbody tr th:only-of-type {\n",
       "        vertical-align: middle;\n",
       "    }\n",
       "\n",
       "    .dataframe tbody tr th {\n",
       "        vertical-align: top;\n",
       "    }\n",
       "\n",
       "    .dataframe thead th {\n",
       "        text-align: right;\n",
       "    }\n",
       "</style>\n",
       "<table border=\"1\" class=\"dataframe\">\n",
       "  <thead>\n",
       "    <tr style=\"text-align: right;\">\n",
       "      <th></th>\n",
       "      <th>TV</th>\n",
       "      <th>Radio</th>\n",
       "      <th>Newspaper</th>\n",
       "      <th>Sales</th>\n",
       "    </tr>\n",
       "  </thead>\n",
       "  <tbody>\n",
       "    <tr>\n",
       "      <th>0</th>\n",
       "      <td>230.1</td>\n",
       "      <td>37.8</td>\n",
       "      <td>69.2</td>\n",
       "      <td>22.1</td>\n",
       "    </tr>\n",
       "    <tr>\n",
       "      <th>1</th>\n",
       "      <td>44.5</td>\n",
       "      <td>39.3</td>\n",
       "      <td>45.1</td>\n",
       "      <td>10.4</td>\n",
       "    </tr>\n",
       "    <tr>\n",
       "      <th>2</th>\n",
       "      <td>17.2</td>\n",
       "      <td>45.9</td>\n",
       "      <td>69.3</td>\n",
       "      <td>12.0</td>\n",
       "    </tr>\n",
       "    <tr>\n",
       "      <th>3</th>\n",
       "      <td>151.5</td>\n",
       "      <td>41.3</td>\n",
       "      <td>58.5</td>\n",
       "      <td>16.5</td>\n",
       "    </tr>\n",
       "    <tr>\n",
       "      <th>4</th>\n",
       "      <td>180.8</td>\n",
       "      <td>10.8</td>\n",
       "      <td>58.4</td>\n",
       "      <td>17.9</td>\n",
       "    </tr>\n",
       "  </tbody>\n",
       "</table>\n",
       "</div>"
      ],
      "text/plain": [
       "      TV  Radio  Newspaper  Sales\n",
       "0  230.1   37.8       69.2   22.1\n",
       "1   44.5   39.3       45.1   10.4\n",
       "2   17.2   45.9       69.3   12.0\n",
       "3  151.5   41.3       58.5   16.5\n",
       "4  180.8   10.8       58.4   17.9"
      ]
     },
     "execution_count": 4,
     "metadata": {},
     "output_type": "execute_result"
    }
   ],
   "source": [
    "df.head()"
   ]
  },
  {
   "cell_type": "code",
   "execution_count": 74,
   "id": "b11dbeba",
   "metadata": {},
   "outputs": [
    {
     "data": {
      "text/html": [
       "<div>\n",
       "<style scoped>\n",
       "    .dataframe tbody tr th:only-of-type {\n",
       "        vertical-align: middle;\n",
       "    }\n",
       "\n",
       "    .dataframe tbody tr th {\n",
       "        vertical-align: top;\n",
       "    }\n",
       "\n",
       "    .dataframe thead th {\n",
       "        text-align: right;\n",
       "    }\n",
       "</style>\n",
       "<table border=\"1\" class=\"dataframe\">\n",
       "  <thead>\n",
       "    <tr style=\"text-align: right;\">\n",
       "      <th></th>\n",
       "      <th>TV</th>\n",
       "      <th>Radio</th>\n",
       "      <th>Newspaper</th>\n",
       "      <th>Sales</th>\n",
       "    </tr>\n",
       "  </thead>\n",
       "  <tbody>\n",
       "    <tr>\n",
       "      <th>count</th>\n",
       "      <td>200.000000</td>\n",
       "      <td>200.000000</td>\n",
       "      <td>200.000000</td>\n",
       "      <td>200.000000</td>\n",
       "    </tr>\n",
       "    <tr>\n",
       "      <th>mean</th>\n",
       "      <td>147.042500</td>\n",
       "      <td>23.264000</td>\n",
       "      <td>30.554000</td>\n",
       "      <td>15.130500</td>\n",
       "    </tr>\n",
       "    <tr>\n",
       "      <th>std</th>\n",
       "      <td>85.854236</td>\n",
       "      <td>14.846809</td>\n",
       "      <td>21.778621</td>\n",
       "      <td>5.283892</td>\n",
       "    </tr>\n",
       "    <tr>\n",
       "      <th>min</th>\n",
       "      <td>0.700000</td>\n",
       "      <td>0.000000</td>\n",
       "      <td>0.300000</td>\n",
       "      <td>1.600000</td>\n",
       "    </tr>\n",
       "    <tr>\n",
       "      <th>25%</th>\n",
       "      <td>74.375000</td>\n",
       "      <td>9.975000</td>\n",
       "      <td>12.750000</td>\n",
       "      <td>11.000000</td>\n",
       "    </tr>\n",
       "    <tr>\n",
       "      <th>50%</th>\n",
       "      <td>149.750000</td>\n",
       "      <td>22.900000</td>\n",
       "      <td>25.750000</td>\n",
       "      <td>16.000000</td>\n",
       "    </tr>\n",
       "    <tr>\n",
       "      <th>75%</th>\n",
       "      <td>218.825000</td>\n",
       "      <td>36.525000</td>\n",
       "      <td>45.100000</td>\n",
       "      <td>19.050000</td>\n",
       "    </tr>\n",
       "    <tr>\n",
       "      <th>max</th>\n",
       "      <td>296.400000</td>\n",
       "      <td>49.600000</td>\n",
       "      <td>114.000000</td>\n",
       "      <td>27.000000</td>\n",
       "    </tr>\n",
       "  </tbody>\n",
       "</table>\n",
       "</div>"
      ],
      "text/plain": [
       "               TV       Radio   Newspaper       Sales\n",
       "count  200.000000  200.000000  200.000000  200.000000\n",
       "mean   147.042500   23.264000   30.554000   15.130500\n",
       "std     85.854236   14.846809   21.778621    5.283892\n",
       "min      0.700000    0.000000    0.300000    1.600000\n",
       "25%     74.375000    9.975000   12.750000   11.000000\n",
       "50%    149.750000   22.900000   25.750000   16.000000\n",
       "75%    218.825000   36.525000   45.100000   19.050000\n",
       "max    296.400000   49.600000  114.000000   27.000000"
      ]
     },
     "execution_count": 74,
     "metadata": {},
     "output_type": "execute_result"
    }
   ],
   "source": [
    "df.describe()"
   ]
  },
  {
   "cell_type": "code",
   "execution_count": 6,
   "id": "96e7cf8a",
   "metadata": {},
   "outputs": [
    {
     "data": {
      "text/plain": [
       "<matplotlib.collections.PathCollection at 0x703b22b1dfd0>"
      ]
     },
     "execution_count": 6,
     "metadata": {},
     "output_type": "execute_result"
    },
    {
     "data": {
      "image/png": "[encoded data removed]",
      "text/plain": [
       "<Figure size 640x480 with 4 Axes>"
      ]
     },
     "metadata": {},
     "output_type": "display_data"
    }
   ],
   "source": [
    "fig, axes = plt.subplots(2, 2)\n",
    "axes[0, 0].scatter(df.TV, df.Sales)\n",
    "axes[0, 1].scatter(df.Radio, df.Sales)\n",
    "axes[1, 0].scatter(df.Newspaper, df.Sales)\n"
   ]
  },
  {
   "cell_type": "code",
   "execution_count": 8,
   "id": "44dafca4",
   "metadata": {},
   "outputs": [
    {
     "data": {
      "text/plain": [
       "(array([ 2.,  9., 17., 30., 29., 30., 34., 30., 12.,  7.]),\n",
       " array([ 1.6 ,  4.14,  6.68,  9.22, 11.76, 14.3 , 16.84, 19.38, 21.92,\n",
       "        24.46, 27.  ]),\n",
       " <BarContainer object of 10 artists>)"
      ]
     },
     "execution_count": 8,
     "metadata": {},
     "output_type": "execute_result"
    },
    {
     "data": {
      "image/png": "[encoded data removed]",
      "text/plain": [
       "<Figure size 640x480 with 1 Axes>"
      ]
     },
     "metadata": {},
     "output_type": "display_data"
    }
   ],
   "source": [
    "plt.hist(df.Sales)"
   ]
  },
  {
   "cell_type": "code",
   "execution_count": 18,
   "id": "87d5943c",
   "metadata": {},
   "outputs": [],
   "source": [
    "from scipy import stats"
   ]
  },
  {
   "cell_type": "code",
   "execution_count": 21,
   "id": "53dc58cf",
   "metadata": {},
   "outputs": [
    {
     "data": {
      "text/plain": [
       "(array([ 2.,  7., 18., 29., 30., 25., 40., 30., 12.,  7.]),\n",
       " array([ 0.59582028,  2.9684838 ,  5.34114732,  7.71381084, 10.08647436,\n",
       "        12.45913788, 14.8318014 , 17.20446493, 19.57712845, 21.94979197,\n",
       "        24.32245549]),\n",
       " <BarContainer object of 10 artists>)"
      ]
     },
     "execution_count": 21,
     "metadata": {},
     "output_type": "execute_result"
    },
    {
     "data": {
      "image/png": "[encoded data removed]",
      "text/plain": [
       "<Figure size 640x480 with 1 Axes>"
      ]
     },
     "metadata": {},
     "output_type": "display_data"
    }
   ],
   "source": [
    "nd = stats.boxcox(df.Sales)\n",
    "plt.hist(nd[0])"
   ]
  },
  {
   "cell_type": "code",
   "execution_count": null,
   "id": "3387434a",
   "metadata": {},
   "outputs": [],
   "source": [
    "#gradient decent for linear reg\n",
    "def MSE_costFunc(X, y, w):\n",
    "    total_loss = 0\n",
    "    m = len(X)\n",
    "    for i in range(m):\n",
    "        y_hat = 0  \n",
    "        for j in range(len(w)):\n",
    "            y_hat += X[i][j] * w[j]\n",
    "        loss = (y_hat - y[i]) ** 2  \n",
    "        total_loss += loss\n",
    "    return total_loss / m  "
   ]
  },
  {
   "cell_type": "code",
   "execution_count": null,
   "id": "1321bc92",
   "metadata": {},
   "outputs": [],
   "source": [
    "def y_hat(Xi, w):\n",
    "    y_hat = 0\n",
    "    for j in range(len(w)):\n",
    "        y_hat += Xi[j] * w[j] \n",
    "    return y_hat\n",
    "\n",
    "def GD(X, y, w, lr, n_iters):\n",
    "    m = len(X)\n",
    "    cost_history = []\n",
    "    \n",
    "    for _ in range(n_iters):\n",
    "        gradients = [0] * len(w)  \n",
    "        \n",
    "        for i in range(m):  \n",
    "            y_pred = y_hat(X[i], w)  \n",
    "            error = y_pred - y[i]  \n",
    "            \n",
    "            for j in range(len(w)):\n",
    "                gradients[j] += (error * X[i][j]) / m\n",
    "        for j in range(len(w)):\n",
    "            w[j] -= lr * gradients[j]\n",
    "    \n",
    "        mse = MSE_costFunc(X, y, w)\n",
    "        cost_history.append(mse)\n",
    "    \n",
    "    return w, cost_history"
   ]
  },
  {
   "cell_type": "code",
   "execution_count": 66,
   "id": "4551c87e",
   "metadata": {},
   "outputs": [],
   "source": [
    "def y_hat(Xi, w):\n",
    "    prediction = 0\n",
    "    for j in range(len(w)):\n",
    "        prediction += Xi[j] * w[j]\n",
    "    return prediction"
   ]
  },
  {
   "cell_type": "code",
   "execution_count": null,
   "id": "4c3f5a62",
   "metadata": {},
   "outputs": [],
   "source": [
    "def MSE_costFunc(X, y, w):\n",
    "    total_loss = 0\n",
    "    m = len(X)\n",
    "    for i in range(m):\n",
    "        y_pred = y_hat(X[i], w)\n",
    "        loss = (y_pred - y[i]) ** 2  \n",
    "        total_loss += loss\n",
    "    return total_loss / m  \n",
    "\n",
    "def GD(X, y, w, lr, n_iters):\n",
    "    m = len(X)\n",
    "    cost_history = []\n",
    "    \n",
    "    for _ in range(n_iters):\n",
    "        gradients = [0] * len(w)  \n",
    "        \n",
    "        for i in range(m):  \n",
    "            y_pred = y_hat(X[i], w)  \n",
    "            error = y_pred - y[i]  \n",
    "            \n",
    "            for j in range(len(w)):\n",
    "                gradients[j] += (error * X[i][j]) / m\n",
    "        \n",
    "        for j in range(len(w)):\n",
    "            w[j] -= lr * gradients[j]\n",
    "        \n",
    "        mse = MSE_costFunc(X, y, w)\n",
    "        cost_history.append(mse)\n",
    "    \n",
    "    return w, cost_history\n"
   ]
  },
  {
   "cell_type": "code",
   "execution_count": 70,
   "id": "be344b8e",
   "metadata": {},
   "outputs": [],
   "source": [
    "split_ratio = 0.8\n",
    "train_size = int(len(df) * split_ratio) \n",
    "X_train = df.iloc[:train_size, :-1].values\n",
    "y_train = df.iloc[:train_size, -1].values   \n",
    "X_test = df.iloc[train_size:, :-1].values  \n",
    "y_test = df.iloc[train_size:, -1].values  "
   ]
  },
  {
   "cell_type": "code",
   "execution_count": 71,
   "id": "b1d8448b",
   "metadata": {},
   "outputs": [],
   "source": [
    "w = [0, 0, 0]\n",
    "lr = 0.01  \n",
    "n_iters = 1000 "
   ]
  },
  {
   "cell_type": "code",
   "execution_count": 72,
   "id": "89f76620",
   "metadata": {},
   "outputs": [
    {
     "name": "stderr",
     "output_type": "stream",
     "text": [
      "/tmp/ipykernel_68496/1594508151.py:7: RuntimeWarning: overflow encountered in scalar add\n",
      "  total_loss += loss\n",
      "/tmp/ipykernel_68496/1594508151.py:6: RuntimeWarning: overflow encountered in scalar power\n",
      "  loss = (y_pred - y[i]) ** 2  # squared error\n",
      "/tmp/ipykernel_68496/1594508151.py:25: RuntimeWarning: overflow encountered in scalar multiply\n",
      "  gradients[j] += (error * X[i][j]) / m\n",
      "/tmp/ipykernel_68496/1594508151.py:25: RuntimeWarning: invalid value encountered in scalar multiply\n",
      "  gradients[j] += (error * X[i][j]) / m\n",
      "/tmp/ipykernel_68496/1594508151.py:29: RuntimeWarning: invalid value encountered in scalar subtract\n",
      "  w[j] -= lr * gradients[j]\n"
     ]
    }
   ],
   "source": [
    "w_final, cost_history = GD(X_train, y_train, w, lr, n_iters)"
   ]
  },
  {
   "cell_type": "code",
   "execution_count": 73,
   "id": "c87f1941",
   "metadata": {},
   "outputs": [
    {
     "name": "stdout",
     "output_type": "stream",
     "text": [
      "Final weights: [nan, nan, nan]\n",
      "Test loss (MSE): nan\n"
     ]
    }
   ],
   "source": [
    "test_predictions = [y_hat(Xi, w_final) for Xi in X_test]\n",
    "test_loss = MSE_costFunc(X_test, y_test, w_final)\n",
    "\n",
    "print(\"Final weights:\", w_final)\n",
    "print(\"Test loss (MSE):\", test_loss)"
   ]
  },
  {
   "cell_type": "code",
   "execution_count": 77,
   "id": "967093da",
   "metadata": {},
   "outputs": [
    {
     "name": "stderr",
     "output_type": "stream",
     "text": [
      "/home/majid/.local/lib/python3.11/site-packages/sklearn/utils/validation.py:2739: UserWarning: X does not have valid feature names, but LinearRegression was fitted with feature names\n",
      "  warnings.warn(\n"
     ]
    },
    {
     "data": {
      "text/plain": [
       "array([16.07722174, 13.21321157, 16.92180225, 17.37327271, 12.60992766,\n",
       "       18.2075123 ,  9.57905955, 16.59569044, 19.08752475, 21.30888748,\n",
       "        8.69035045, 15.99621659,  7.88523289, 14.66570876, 17.23701254,\n",
       "       24.92524356, 21.39081315, 14.93162809, 20.13179451, 14.82664026,\n",
       "       13.54873033, 17.28833116,  8.4817344 , 25.04301452, 20.82881496,\n",
       "       20.52616105, 12.64550975, 18.10690693, 21.72296399,  7.05636619,\n",
       "       11.04124955,  9.94580615,  6.20259989, 18.06158993, 16.49383903,\n",
       "        7.22972412, 10.37865883, 15.32881375, 24.69974685, 18.27158711])"
      ]
     },
     "execution_count": 77,
     "metadata": {},
     "output_type": "execute_result"
    }
   ],
   "source": [
    "from sklearn.model_selection import train_test_split\n",
    "from sklearn.linear_model import LinearRegression\n",
    "\n",
    "lr = LinearRegression()\n",
    "X_train, X_text, y_train, y_test =train_test_split(df.iloc[: , :-1], df.iloc[: , -1],test_size=.2 , random_state=42)\n",
    "lr.fit(X_train, y_train)\n",
    "lr.predict(X_test)"
   ]
  },
  {
   "cell_type": "code",
   "execution_count": null,
   "id": "41f9e0c9",
   "metadata": {},
   "outputs": [
    {
     "name": "stdout",
     "output_type": "stream",
     "text": [
      "Mean Squared Error (MSE): 70.3112\n",
      "Root Mean Squared Error (RMSE): 8.3852\n",
      "Mean Absolute Error (MAE): 7.1620\n",
      "R² Score: -1.2754\n"
     ]
    },
    {
     "name": "stderr",
     "output_type": "stream",
     "text": [
      "/home/majid/.local/lib/python3.11/site-packages/sklearn/utils/validation.py:2739: UserWarning: X does not have valid feature names, but LinearRegression was fitted with feature names\n",
      "  warnings.warn(\n"
     ]
    }
   ],
   "source": [
    "from sklearn.metrics import mean_squared_error, mean_absolute_error, r2_score\n",
    "import numpy as np\n",
    "\n",
    "y_pred = lr.predict(X_test)  \n",
    "\n",
    "mse = mean_squared_error(y_test, y_pred)\n",
    "rmse = np.sqrt(mse)\n",
    "mae = mean_absolute_error(y_test, y_pred)\n",
    "r2 = r2_score(y_test, y_pred)\n",
    "\n",
    "print(f\"Mean Squared Error (MSE): {mse:.4f}\")\n",
    "print(f\"Root Mean Squared Error (RMSE): {rmse:.4f}\")\n",
    "print(f\"Mean Absolute Error (MAE): {mae:.4f}\")\n",
    "print(f\"R² Score: {r2:.4f}\")\n",
    "\n"
   ]
  }
 ],
 "metadata": {
  "kernelspec": {
   "display_name": "Python 3",
   "language": "python",
   "name": "python3"
  },
  "language_info": {
   "codemirror_mode": {
    "name": "ipython",
    "version": 3
   },
   "file_extension": ".py",
   "mimetype": "text/x-python",
   "name": "python",
   "nbconvert_exporter": "python",
   "pygments_lexer": "ipython3",
   "version": "3.11.7"
  }
 },
 "nbformat": 4,
 "nbformat_minor": 5
}
